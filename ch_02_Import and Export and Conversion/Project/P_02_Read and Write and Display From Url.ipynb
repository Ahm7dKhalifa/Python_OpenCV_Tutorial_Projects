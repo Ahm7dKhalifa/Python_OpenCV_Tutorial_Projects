{
 "cells": [
  {
   "cell_type": "markdown",
   "metadata": {},
   "source": [
    "# 1.working with Image From URL"
   ]
  },
  {
   "cell_type": "markdown",
   "metadata": {},
   "source": [
    "# 1.1 Read Image From Url"
   ]
  },
  {
   "cell_type": "code",
   "execution_count": 24,
   "metadata": {},
   "outputs": [],
   "source": [
    "# import the necessary packages\n",
    "import cv2\n",
    "import numpy as np\n",
    "import urllib.request \n"
   ]
  },
  {
   "cell_type": "code",
   "execution_count": 28,
   "metadata": {},
   "outputs": [],
   "source": [
    "# METHOD #1: OpenCV, NumPy, and urllib\n",
    "def downloadImageFromUrl(url):\n",
    "    # download the image, convert it to a NumPy array, and then read\n",
    "    # it into OpenCV format\n",
    "    responce = urllib.request.urlopen(url)\n",
    "    image = np.asarray(bytearray(responce.read()), dtype=\"uint8\")\n",
    "    image = cv2.imdecode(image, cv2.IMREAD_COLOR) \n",
    "    return image"
   ]
  },
  {
   "cell_type": "code",
   "execution_count": 29,
   "metadata": {},
   "outputs": [
    {
     "name": "stdout",
     "output_type": "stream",
     "text": [
      "This Image From : \n",
      "http://www.petsworld.in/blog/wp-content/uploads/2014/09/adorable-cat.jpg\n",
      "This Image From : \n",
      "https://www.pyimagesearch.com/wp-content/uploads/2015/01/opencv_logo.png\n",
      "This Image From : \n",
      "https://www.pyimagesearch.com/wp-content/uploads/2015/01/google_logo.png\n",
      "This Image From : \n",
      "https://www.pyimagesearch.com/wp-content/uploads/2014/12/adrian_face_detection_sidebar.png\n"
     ]
    }
   ],
   "source": [
    "# initialize the list of image URLs to download\n",
    "urls = [\n",
    "    \"http://www.petsworld.in/blog/wp-content/uploads/2014/09/adorable-cat.jpg\",\n",
    "    \"https://www.pyimagesearch.com/wp-content/uploads/2015/01/opencv_logo.png\",\n",
    "    \"https://www.pyimagesearch.com/wp-content/uploads/2015/01/google_logo.png\",\n",
    "    \"https://www.pyimagesearch.com/wp-content/uploads/2014/12/adrian_face_detection_sidebar.png\",\n",
    "]\n",
    " \n",
    "# loop over the image URLs\n",
    "for url in urls:\n",
    "    # download the image URL and display it\n",
    "    print(\"This Image From : \")\n",
    "    print(url)\n",
    "    image = downloadImageFromUrl(url)\n",
    "    cv2.imshow(\"Image\", image)\n",
    "    cv2.waitKey(0)"
   ]
  },
  {
   "cell_type": "code",
   "execution_count": null,
   "metadata": {},
   "outputs": [],
   "source": []
  }
 ],
 "metadata": {
  "kernelspec": {
   "display_name": "Python 3",
   "language": "python",
   "name": "python3"
  },
  "language_info": {
   "codemirror_mode": {
    "name": "ipython",
    "version": 3
   },
   "file_extension": ".py",
   "mimetype": "text/x-python",
   "name": "python",
   "nbconvert_exporter": "python",
   "pygments_lexer": "ipython3",
   "version": "3.6.5"
  }
 },
 "nbformat": 4,
 "nbformat_minor": 2
}
