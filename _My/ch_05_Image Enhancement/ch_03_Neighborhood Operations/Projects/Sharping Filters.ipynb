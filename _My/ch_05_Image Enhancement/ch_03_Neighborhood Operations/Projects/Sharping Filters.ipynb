{
 "cells": [
  {
   "cell_type": "code",
   "execution_count": 28,
   "metadata": {},
   "outputs": [],
   "source": [
    "import cv2\n",
    "import numpy as np\n",
    "from matplotlib import pyplot as plt"
   ]
  },
  {
   "cell_type": "markdown",
   "metadata": {},
   "source": [
    "# The Laplacian Filter"
   ]
  },
  {
   "cell_type": "code",
   "execution_count": 29,
   "metadata": {},
   "outputs": [],
   "source": [
    "img = cv2.imread(\"Images/logo.PNG\")\n",
    "# Create The Laplacian Filter\n",
    "laplacian_filter = np.array([ [0,-1,0], \n",
    "                              [-1, 4,-1],\n",
    "                              [0,-1,0]])\n",
    "sharpened = cv2.filter2D(img, -1, laplacian_filter)\n",
    "ImageWithFilter = cv2.add(img , sharpened)\n",
    "cv2.imshow(\"img\", img)\n",
    "cv2.imshow(\"sharpened\", sharpened)\n",
    "cv2.imshow(\"ImageWithFilter\", ImageWithFilter)\n",
    "cv2.waitKey(0)\n",
    "cv2.destroyAllWindows()"
   ]
  },
  {
   "cell_type": "markdown",
   "metadata": {},
   "source": [
    "# emboss filters"
   ]
  },
  {
   "cell_type": "code",
   "execution_count": 25,
   "metadata": {},
   "outputs": [],
   "source": [
    "img = cv2.imread(\"Images/emposs.PNG\")\n",
    "laplacian_filter = np.array([ [0,1,0], \n",
    "                              [0,0,0],\n",
    "                              [0,-1,0]])\n",
    "sharpened = cv2.filter2D(img, -1, laplacian_filter)\n",
    "ImageWithFilter = cv2.add(img , sharpened)\n",
    "cv2.imshow(\"img\", img)\n",
    "cv2.imshow(\"sharpened\", sharpened)\n",
    "cv2.imshow(\"ImageWithFilter\", ImageWithFilter)\n",
    "cv2.waitKey(0)\n",
    "cv2.destroyAllWindows()"
   ]
  },
  {
   "cell_type": "code",
   "execution_count": 30,
   "metadata": {},
   "outputs": [],
   "source": [
    "img = cv2.imread(\"Images/emposs.PNG\")\n",
    "laplacian_filter = np.array([ [0,0,0], \n",
    "                              [1,0,-1],\n",
    "                              [0,0,0]])\n",
    "sharpened = cv2.filter2D(img, -1, laplacian_filter)\n",
    "ImageWithFilter = cv2.add(img , sharpened)\n",
    "cv2.imshow(\"img\", img)\n",
    "cv2.imshow(\"sharpened\", sharpened)\n",
    "cv2.imshow(\"ImageWithFilter\", ImageWithFilter)\n",
    "cv2.waitKey(0)\n",
    "cv2.destroyAllWindows()"
   ]
  },
  {
   "cell_type": "code",
   "execution_count": 22,
   "metadata": {},
   "outputs": [],
   "source": [
    "img = cv2.imread(\"Images/emposs.PNG\")\n",
    "laplacian_filter = np.array([ [0,0,-1], \n",
    "                              [0,0,0],\n",
    "                              [1,0,0]])\n",
    "sharpened = cv2.filter2D(img, -1, laplacian_filter)\n",
    "ImageWithFilter = cv2.add(img , sharpened)\n",
    "cv2.imshow(\"img\", img)\n",
    "cv2.imshow(\"sharpened\", sharpened)\n",
    "cv2.imshow(\"ImageWithFilter\", ImageWithFilter)\n",
    "cv2.waitKey(0)\n",
    "cv2.destroyAllWindows()"
   ]
  },
  {
   "cell_type": "code",
   "execution_count": 27,
   "metadata": {},
   "outputs": [],
   "source": [
    "mg = cv2.imread(\"Images/emposs.PNG\")\n",
    "laplacian_filter = np.array([ [1,0,0], \n",
    "                              [0,0,0],\n",
    "                              [0,0,-1]])\n",
    "sharpened = cv2.filter2D(img, -1, laplacian_filter)\n",
    "ImageWithFilter = cv2.add(img , sharpened)\n",
    "cv2.imshow(\"img\", img)\n",
    "cv2.imshow(\"sharpened\", sharpened)\n",
    "cv2.imshow(\"ImageWithFilter\", ImageWithFilter)\n",
    "cv2.waitKey(0)\n",
    "cv2.destroyAllWindows()"
   ]
  },
  {
   "cell_type": "code",
   "execution_count": null,
   "metadata": {},
   "outputs": [],
   "source": []
  }
 ],
 "metadata": {
  "kernelspec": {
   "display_name": "Python 3",
   "language": "python",
   "name": "python3"
  },
  "language_info": {
   "codemirror_mode": {
    "name": "ipython",
    "version": 3
   },
   "file_extension": ".py",
   "mimetype": "text/x-python",
   "name": "python",
   "nbconvert_exporter": "python",
   "pygments_lexer": "ipython3",
   "version": "3.6.5"
  }
 },
 "nbformat": 4,
 "nbformat_minor": 2
}
