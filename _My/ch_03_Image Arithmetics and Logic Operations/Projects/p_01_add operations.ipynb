{
 "cells": [
  {
   "cell_type": "markdown",
   "metadata": {},
   "source": [
    "# Add Operation"
   ]
  },
  {
   "cell_type": "markdown",
   "metadata": {},
   "source": [
    "# 1.add with + or cv2.add "
   ]
  },
  {
   "cell_type": "code",
   "execution_count": 9,
   "metadata": {},
   "outputs": [],
   "source": [
    "import numpy as np\n",
    "import cv2\n",
    "#read two image\n",
    "img1 = cv2.imread(\"Images\\hand.jpg\")\n",
    "img2 = cv2.imread(\"Images\\LinuxLogo.jpg\")\n",
    "#add two image\n",
    "img3 = img1 + img2\n",
    "#img3 = cv2.add(img1,img2)\n",
    "#save img 3\n",
    "cv2.imwrite(\"out\\hand_Linux.jpg\",img3)\n",
    "#display\n",
    "cv2.imshow(\"hand_Logo\",img1)\n",
    "cv2.imshow(\"Linux_Logo\",img2)\n",
    "cv2.imshow(\"hand_Linux\",img3)\n",
    "cv2.waitKey(0)\n",
    "cv2.destroyAllWindows()"
   ]
  },
  {
   "cell_type": "markdown",
   "metadata": {},
   "source": [
    "# 2.add with cv2.addWeighted()"
   ]
  },
  {
   "cell_type": "code",
   "execution_count": 10,
   "metadata": {},
   "outputs": [],
   "source": [
    "import numpy as np\n",
    "import cv2\n",
    "#read two image\n",
    "img1 = cv2.imread(\"Images\\WindowsLogo.jpg\")\n",
    "img2 = cv2.imread(\"Images\\LinuxLogo.jpg\")\n",
    "#add two image\n",
    "img3 = cv2.addWeighted(img1,.3,img2,.7, 0)\n",
    "#comment the instruction above and try to excute the instruction below\n",
    "#img3 = cv2.add(img1,img2)\n",
    "\n",
    "#save the img3\n",
    "cv2.imwrite(\"out\\Windows_Linux.jpg\",img3)\n",
    "#display\n",
    "cv2.imshow(\"Windows_Logo\",img1)\n",
    "cv2.imshow(\"Linux_Logo\",img2)\n",
    "cv2.imshow(\"Windows_Linux\",img3)\n",
    "cv2.waitKey(0)\n",
    "cv2.destroyAllWindows()"
   ]
  },
  {
   "cell_type": "code",
   "execution_count": null,
   "metadata": {},
   "outputs": [],
   "source": []
  }
 ],
 "metadata": {
  "kernelspec": {
   "display_name": "Python 3",
   "language": "python",
   "name": "python3"
  },
  "language_info": {
   "codemirror_mode": {
    "name": "ipython",
    "version": 3
   },
   "file_extension": ".py",
   "mimetype": "text/x-python",
   "name": "python",
   "nbconvert_exporter": "python",
   "pygments_lexer": "ipython3",
   "version": "3.6.5"
  }
 },
 "nbformat": 4,
 "nbformat_minor": 2
}
