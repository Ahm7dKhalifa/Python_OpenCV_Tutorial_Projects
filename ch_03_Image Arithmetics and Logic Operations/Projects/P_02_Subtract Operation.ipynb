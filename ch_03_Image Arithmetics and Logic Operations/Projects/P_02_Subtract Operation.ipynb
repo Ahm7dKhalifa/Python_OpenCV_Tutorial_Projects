{
 "cells": [
  {
   "cell_type": "markdown",
   "metadata": {},
   "source": [
    "# 1.Subtract Two Image"
   ]
  },
  {
   "cell_type": "code",
   "execution_count": 10,
   "metadata": {},
   "outputs": [],
   "source": [
    "import numpy as np\n",
    "import cv2\n",
    "#read two image\n",
    "img1 = cv2.imread(\"out\\hand_Linux.jpg\")\n",
    "img2 = cv2.imread(\"Images\\LinuxLogo.jpg\")\n",
    "#subtract two image\n",
    "#img3 = img1 - img2\n",
    "img3 = cv2.subtract(img1,img2)\n",
    "#save img 3\n",
    "cv2.imwrite(\"out\\hand_From_Subtract.jpg\",img3)\n",
    "#display\n",
    "cv2.imshow(\"hand_Logo\",img1)\n",
    "cv2.imshow(\"Linux_Logo\",img2)\n",
    "cv2.imshow(\"hand_From_Subtract\",img3)\n",
    "cv2.waitKey(0)\n",
    "cv2.destroyAllWindows()"
   ]
  },
  {
   "cell_type": "markdown",
   "metadata": {},
   "source": [
    "# 2.Subtract Image and number"
   ]
  },
  {
   "cell_type": "code",
   "execution_count": 14,
   "metadata": {},
   "outputs": [],
   "source": [
    "import numpy as np\n",
    "import cv2\n",
    "#read two image\n",
    "img1 = cv2.imread(\"Images\\WindowsLogo.jpg\")\n",
    "img2 = img1 - 50\n",
    "#save img 3\n",
    "cv2.imwrite(\"out\\WindowsLogo_From_Subtract.jpg\",img2)\n",
    "#display\n",
    "cv2.imshow(\"WindowsLogo\",img1)\n",
    "cv2.imshow(\"WindowsLogo_Subtract\",img2)\n",
    "cv2.waitKey(0)\n",
    "cv2.destroyAllWindows()"
   ]
  },
  {
   "cell_type": "code",
   "execution_count": null,
   "metadata": {},
   "outputs": [],
   "source": []
  }
 ],
 "metadata": {
  "kernelspec": {
   "display_name": "Python 3",
   "language": "python",
   "name": "python3"
  },
  "language_info": {
   "codemirror_mode": {
    "name": "ipython",
    "version": 3
   },
   "file_extension": ".py",
   "mimetype": "text/x-python",
   "name": "python",
   "nbconvert_exporter": "python",
   "pygments_lexer": "ipython3",
   "version": "3.6.5"
  }
 },
 "nbformat": 4,
 "nbformat_minor": 2
}
